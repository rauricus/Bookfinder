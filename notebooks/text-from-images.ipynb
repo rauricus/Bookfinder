{
 "cells": [
  {
   "cell_type": "code",
   "execution_count": 1,
   "id": "3bbdfed7",
   "metadata": {},
   "outputs": [],
   "source": [
    "import os\n",
    "\n",
    "def get_next_directory(base_path=\"output/predict\"):\n",
    "    # Check if the base directory exists\n",
    "    if not os.path.exists(base_path):\n",
    "        return base_path\n",
    "    else:\n",
    "        # Find the next available numbered directory\n",
    "        i = 2\n",
    "        while os.path.exists(f\"{base_path}{i}\"):\n",
    "            i += 1\n",
    "        return f\"{base_path}{i}\""
   ]
  },
  {
   "cell_type": "code",
   "execution_count": 5,
   "id": "5cdb148e",
   "metadata": {},
   "outputs": [],
   "source": [
    "NOTEBOOKS_DIR = os.getcwd()\n",
    "\n",
    "# Create the output directory, if needed\n",
    "HOME_DIR = os.path.dirname(NOTEBOOKS_DIR)\n",
    "OUTPUT_DIR = get_next_directory(os.path.join(HOME_DIR, \"output/predict\"))\n",
    "\n",
    "os.makedirs(OUTPUT_DIR, exist_ok=True)"
   ]
  },
  {
   "cell_type": "markdown",
   "id": "7f738e69-8ca5-46a7-8a8c-abeff29fa2ce",
   "metadata": {},
   "source": [
    "# Perform object detection\n",
    "\n",
    "Perform the inference with the loaded model."
   ]
  },
  {
   "cell_type": "code",
   "execution_count": 6,
   "id": "81faa6e6-cf3a-433e-a847-229f1c4bf69f",
   "metadata": {
    "editable": true,
    "slideshow": {
     "slide_type": ""
    },
    "tags": []
   },
   "outputs": [
    {
     "ename": "FileNotFoundError",
     "evalue": "[Errno 2] No such file or directory: '/Users/andreas/Documents/Projekte/Objekterkennung.yolo11example-files/IMG_3688.png'",
     "output_type": "error",
     "traceback": [
      "\u001b[0;31m---------------------------------------------------------------------------\u001b[0m",
      "\u001b[0;31mFileNotFoundError\u001b[0m                         Traceback (most recent call last)",
      "Cell \u001b[0;32mIn[6], line 8\u001b[0m\n\u001b[1;32m      5\u001b[0m \u001b[38;5;66;03m# Load a model\u001b[39;00m\n\u001b[1;32m      6\u001b[0m model \u001b[38;5;241m=\u001b[39m YOLO(\u001b[38;5;124m\"\u001b[39m\u001b[38;5;124myolo11n.pt\u001b[39m\u001b[38;5;124m\"\u001b[39m)  \u001b[38;5;66;03m# load an official model\u001b[39;00m\n\u001b[0;32m----> 8\u001b[0m source \u001b[38;5;241m=\u001b[39m \u001b[43mImage\u001b[49m\u001b[38;5;241;43m.\u001b[39;49m\u001b[43mopen\u001b[49m\u001b[43m(\u001b[49m\u001b[43mHOME_DIR\u001b[49m\u001b[38;5;241;43m+\u001b[39;49m\u001b[38;5;124;43m\"\u001b[39;49m\u001b[38;5;124;43mexample-files/IMG_3688.png\u001b[39;49m\u001b[38;5;124;43m\"\u001b[39;49m\u001b[43m)\u001b[49m\n\u001b[1;32m     10\u001b[0m \u001b[38;5;66;03m# Predict with the model\u001b[39;00m\n\u001b[1;32m     11\u001b[0m results \u001b[38;5;241m=\u001b[39m model(source)  \u001b[38;5;66;03m# predict on an image\u001b[39;00m\n",
      "File \u001b[0;32m~/micromamba/envs/yolo11/lib/python3.12/site-packages/PIL/Image.py:3431\u001b[0m, in \u001b[0;36mopen\u001b[0;34m(fp, mode, formats)\u001b[0m\n\u001b[1;32m   3428\u001b[0m     filename \u001b[38;5;241m=\u001b[39m os\u001b[38;5;241m.\u001b[39mpath\u001b[38;5;241m.\u001b[39mrealpath(os\u001b[38;5;241m.\u001b[39mfspath(fp))\n\u001b[1;32m   3430\u001b[0m \u001b[38;5;28;01mif\u001b[39;00m filename:\n\u001b[0;32m-> 3431\u001b[0m     fp \u001b[38;5;241m=\u001b[39m \u001b[43mbuiltins\u001b[49m\u001b[38;5;241;43m.\u001b[39;49m\u001b[43mopen\u001b[49m\u001b[43m(\u001b[49m\u001b[43mfilename\u001b[49m\u001b[43m,\u001b[49m\u001b[43m \u001b[49m\u001b[38;5;124;43m\"\u001b[39;49m\u001b[38;5;124;43mrb\u001b[39;49m\u001b[38;5;124;43m\"\u001b[39;49m\u001b[43m)\u001b[49m\n\u001b[1;32m   3432\u001b[0m     exclusive_fp \u001b[38;5;241m=\u001b[39m \u001b[38;5;28;01mTrue\u001b[39;00m\n\u001b[1;32m   3433\u001b[0m \u001b[38;5;28;01melse\u001b[39;00m:\n",
      "\u001b[0;31mFileNotFoundError\u001b[0m: [Errno 2] No such file or directory: '/Users/andreas/Documents/Projekte/Objekterkennung.yolo11example-files/IMG_3688.png'"
     ]
    }
   ],
   "source": [
    "from PIL import Image\n",
    "\n",
    "from ultralytics import YOLO\n",
    "\n",
    "# Load a model\n",
    "model = YOLO(\"yolo11n.pt\")  # load an official model\n",
    "\n",
    "source = Image.open(HOME_DIR+\"/example-files/IMG_3688.png\")\n",
    "\n",
    "# Predict with the model\n",
    "results = model(source)  # predict on an image"
   ]
  },
  {
   "cell_type": "markdown",
   "id": "c21dee09-5421-4abd-a558-a128d892828b",
   "metadata": {},
   "source": [
    "# Save cropped images\n",
    "\n",
    "Saves images for each bounding box."
   ]
  },
  {
   "cell_type": "code",
   "execution_count": 16,
   "id": "25064ea0-37f0-4da0-8fa2-122af0e56271",
   "metadata": {},
   "outputs": [],
   "source": [
    "for result in results:\n",
    "    result.save_crop(OUTPUT_DIR, \"image\")"
   ]
  }
 ],
 "metadata": {
  "kernelspec": {
   "display_name": "Python 3",
   "language": "python",
   "name": "python3"
  },
  "language_info": {
   "codemirror_mode": {
    "name": "ipython",
    "version": 3
   },
   "file_extension": ".py",
   "mimetype": "text/x-python",
   "name": "python",
   "nbconvert_exporter": "python",
   "pygments_lexer": "ipython3",
   "version": "3.12.7"
  }
 },
 "nbformat": 4,
 "nbformat_minor": 5
}
